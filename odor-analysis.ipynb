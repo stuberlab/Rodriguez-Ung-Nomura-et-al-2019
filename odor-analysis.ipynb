{
 "cells": [
  {
   "cell_type": "markdown",
   "metadata": {},
   "source": [
    "# Headfixed odor exposure"
   ]
  },
  {
   "cell_type": "code",
   "execution_count": null,
   "metadata": {
    "ExecuteTime": {
     "end_time": "2018-02-05T15:43:48.012352Z",
     "start_time": "2018-02-05T15:43:46.410607Z"
    },
    "nbpresent": {
     "id": "28b4ee29-bf50-41d4-b297-2cfb98735a21"
    }
   },
   "outputs": [],
   "source": [
    "%matplotlib inline\n",
    "import matplotlib.pyplot as plt\n",
    "import numpy as np\n",
    "import pandas as pd\n",
    "import seaborn as sns\n",
    "import h5py as h5\n",
    "import os\n",
    "import scipy.stats"
   ]
  },
  {
   "cell_type": "code",
   "execution_count": null,
   "metadata": {},
   "outputs": [],
   "source": [
    "def cdf(array, ax=None, ignore_nan=True, **kwargs):\n",
    "    '''Creates cumulative distribution function from array of data points\n",
    "    Parameters\n",
    "    ----------\n",
    "    array : array_like\n",
    "        Array to plot CDF. If more than one dimension, array will be flattened.\n",
    "    ax : Axes object, optional\n",
    "        Axes on which to plot CDF.\n",
    "    ignore_nan : boolean\n",
    "        Whether to ignore nan values in `array`.\n",
    "    **kwargs: keyword arguments\n",
    "        Keyword arguments for matplotlib.pyplot.plot.\n",
    "\n",
    "    Returns\n",
    "    ----------\n",
    "    ax: axes object containing CDF\n",
    "\n",
    "    '''\n",
    "    array = np.array(array).flatten()\n",
    "    if ignore_nan:\n",
    "        array = array[~ np.isnan(array)]\n",
    "\n",
    "    X = np.sort(array)\n",
    "    Y = (np.arange(len(array), dtype=float) + 1) / len(array)\n",
    "    if ax:\n",
    "        ax.plot(X, Y, **kwargs)\n",
    "    else:\n",
    "        plt.plot(X, Y, **kwargs)\n",
    "\n",
    "    return ax"
   ]
  },
  {
   "cell_type": "code",
   "execution_count": null,
   "metadata": {},
   "outputs": [],
   "source": [
    "neural_file = 'odor-neural.csv'\n",
    "behav_file = 'odor-behav.csv'\n",
    "\n",
    "to_plot = True\n",
    "output_dir = './results'\n",
    "if output_dir and not os.path.isdir(output_dir):\n",
    "    os.mkdir(output_dir)\n",
    "\n",
    "# Parameters\n",
    "pre = -12000\n",
    "post = 22000\n",
    "bin_size = 200\n",
    "xticklabels = np.arange(-10000, 22000, 5000)\n",
    "xticks = (xticklabels - pre) / bin_size\n",
    "\n",
    "epoch_ctrl = 'h2o'\n",
    "\n",
    "idx = pd.IndexSlice"
   ]
  },
  {
   "cell_type": "markdown",
   "metadata": {},
   "source": [
    "# Import data"
   ]
  },
  {
   "cell_type": "code",
   "execution_count": null,
   "metadata": {},
   "outputs": [],
   "source": [
    "neural_response = pd.read_csv(neural_file, header=[0, 1, 2], index_col=[0, 1, 2])\n",
    "behav_response = pd.read_csv('odor-behav.csv', header=[0, 1, 2], index_col=[0, 1, 2])\n",
    "\n",
    "# Create long format dataframe\n",
    "neural_response_long = neural_response.stack(list(range(neural_response.columns.nlevels))).reset_index().rename({0: 'value'}, axis=1)"
   ]
  },
  {
   "cell_type": "markdown",
   "metadata": {},
   "source": [
    "# Visualize data"
   ]
  },
  {
   "cell_type": "markdown",
   "metadata": {},
   "source": [
    "## Behavior"
   ]
  },
  {
   "cell_type": "code",
   "execution_count": null,
   "metadata": {
    "ExecuteTime": {
     "end_time": "2018-02-05T18:14:17.412974Z",
     "start_time": "2018-02-05T18:14:10.363191Z"
    },
    "code_folding": []
   },
   "outputs": [],
   "source": [
    "# Pupil and velocity plots\n",
    "\n",
    "def behavior_plots(data, vmin=-2, vmax=2, plt_name=None):\n",
    "    fig, axes = plt.subplots(2, 2, sharex=True, sharey='row', figsize=(12, 5))\n",
    "    fig_cb, ax_cb = plt.subplots(figsize=(0.25, 4))\n",
    "    \n",
    "    for n, (epoch, df) in enumerate(data.groupby(axis=0, level='epoch')):\n",
    "        df.index = df.index.droplevel('epoch')\n",
    "        \n",
    "        C = df.copy()\n",
    "        C.index = C.index.droplevel('time_epoch')\n",
    "        sns.heatmap(C.T, ax=axes[0, n], cbar_ax=ax_cb, center=0, vmin=vmin, vmax=vmax)\n",
    "        im = axes[0, n].collections[0]\n",
    "        \n",
    "        Y = df.mean(axis=1)\n",
    "        E = df.sem(axis=1)\n",
    "        Y.plot(ax=axes[1, n])\n",
    "        X = axes[1, n].lines[0].get_xdata()\n",
    "        axes[1, n].fill_between(X, Y + E, Y - E, alpha=0.2)\n",
    "        axes[0, n].set_xticks(xticks)\n",
    "        axes[0, n].set_xticklabels(xticklabels)\n",
    "        \n",
    "        if plt_name:\n",
    "            fig.savefig(plt_name + '.pdf')\n",
    "            fig.savefig(plt_name + '.png')\n",
    "\n",
    "for feature, v, fname in zip(['pupil', 'track'], [[-5, 5], [0, 250]], ['fig2f', 'sf1h']):\n",
    "    ix_col = idx[:, :, feature]\n",
    "    plt_name = os.path.join(output_dir, fname)\n",
    "    behavior_plots(behav_response.loc[:, ix_col], vmin=v[0], vmax=v[1], plt_name=plt_name)"
   ]
  },
  {
   "cell_type": "markdown",
   "metadata": {},
   "source": [
    "## Neural data"
   ]
  },
  {
   "cell_type": "code",
   "execution_count": null,
   "metadata": {
    "ExecuteTime": {
     "end_time": "2018-02-05T15:45:13.763342Z",
     "start_time": "2018-02-05T15:45:10.857416Z"
    },
    "code_folding": [
     2
    ],
    "scrolled": false
   },
   "outputs": [],
   "source": [
    "# Neural plots\n",
    "\n",
    "def activity_heatmap(data, max_z=4, plt_name=None):\n",
    "    fig, axes  = plt.subplots(ncols=2, sharey='row', sharex=True, figsize=(8, 8))\n",
    "    fig_cb, ax_cb = plt.subplots(figsize=(0.25, 4))\n",
    "\n",
    "    ims = []\n",
    "    for n, (grp, df) in enumerate(data.groupby(axis=0, level='epoch')):\n",
    "        df.index = df.index.droplevel('epoch')\n",
    "        \n",
    "        # Plot heatmap\n",
    "        C = df.copy()\n",
    "        C.columns = np.arange(C.shape[1])\n",
    "        C.index = C.index.droplevel('time_epoch')\n",
    "        sns.heatmap(C.T, ax=axes[n], cbar_ax=ax_cb, vmin=-max_z, vmax=max_z, yticklabels=C.shape[1] - 1)\n",
    "        axes[n].set_title(grp)\n",
    "        ims.append(axes[n].collections[0])\n",
    "        \n",
    "        # Remove spines\n",
    "        sns.despine(ax=axes[n], left=True, bottom=True)\n",
    "        sns.despine(ax=axes[n], left=True, bottom=True)\n",
    "\n",
    "    axes[0].set_ylabel('Neurons');\n",
    "    axes[0].set_ylabel('Average neural response');\n",
    "    \n",
    "    fig.tight_layout()\n",
    "    \n",
    "    if plt_name:\n",
    "        fig.savefig(plt_name + '.pdf')\n",
    "        fig.savefig(plt_name + '.png')\n",
    "\n",
    "# Sorting\n",
    "sort_ix = np.argsort(neural_response.loc[('odor', '2 response'), :].mean().mean(level=['subject', 'neuron']).as_matrix())[::-1]\n",
    "\n",
    "# Plot\n",
    "data = neural_response.mean(axis=1, level=['subject', 'neuron']).iloc[:, sort_ix]\n",
    "\n",
    "if to_plot:\n",
    "    plt_name = os.path.join(output_dir, 'fig2g')\n",
    "else:\n",
    "    plt_name = None\n",
    "\n",
    "activity_heatmap(data, plt_name=plt_name)"
   ]
  },
  {
   "cell_type": "code",
   "execution_count": null,
   "metadata": {},
   "outputs": [],
   "source": [
    "data = neural_response_long.groupby(['epoch', 'time_epoch', 'subject', 'neuron']).mean()['value'].reset_index()\n",
    "\n",
    "fig, ax = plt.subplots()\n",
    "time_epochs = ['0 pre', '2 response']\n",
    "sns.pointplot(data=data, x='time_epoch', y='value', hue='epoch', order=time_epochs, ci=68, ax=ax)\n",
    "\n",
    "if to_plot:\n",
    "    plt_name = os.path.join(output_dir, 'fig2i')\n",
    "    fig.savefig(plt_name + '.pdf')\n",
    "    fig.savefig(plt_name + '.png')"
   ]
  },
  {
   "cell_type": "markdown",
   "metadata": {},
   "source": [
    "# Group neurons"
   ]
  },
  {
   "cell_type": "markdown",
   "metadata": {},
   "source": [
    "## Statistical difference\n",
    "Define excited/inhibited neurons as those with significant difference between pre and response period to odor using Mann Whitney U test"
   ]
  },
  {
   "cell_type": "code",
   "execution_count": null,
   "metadata": {
    "ExecuteTime": {
     "end_time": "2018-01-30T10:33:49.708128Z",
     "start_time": "2018-01-30T10:33:46.796100Z"
    },
    "collapsed": true
   },
   "outputs": [],
   "source": [
    "thresh_data = neural_response.mean(axis=1, level=['subject', 'neuron'])\n",
    "n_neurons = thresh_data.shape[1]\n",
    "alpha = 0.05\n",
    "p_thresh = alpha / n_neurons  # Bonferroni correction\n",
    "\n",
    "grouping = pd.DataFrame(\n",
    "    columns=pd.MultiIndex.from_product([['h2o', 'odor'], ['p', 'sign', 'group']]),\n",
    "    index=thresh_data.columns,\n",
    "    dtype=float\n",
    ")\n",
    "\n",
    "for ep in ['h2o', 'odor']:\n",
    "    for n, neuron in enumerate(thresh_data):\n",
    "        X = thresh_data.loc[(ep, '0 pre'), neuron]\n",
    "        Y = thresh_data.loc[(ep, '2 response'), neuron]\n",
    "        if len(np.unique(np.concatenate((X, Y)))) > 1:\n",
    "            _, grouping.loc[neuron, (ep, 'p')] = scipy.stats.mannwhitneyu(X, Y)\n",
    "            grouping.loc[neuron, (ep, 'sign')] = np.sign(Y.mean() - X.mean())\n",
    "\n",
    "        if grouping.loc[neuron, (ep, 'p')] < p_thresh:\n",
    "            grouping.loc[neuron, (ep, 'group')] = grouping.loc[neuron, (ep, 'sign')] \n",
    "        else:\n",
    "            grouping.loc[neuron, (ep, 'group')] = 0\n",
    "\n",
    "grouping.loc[:, idx[:, ['sign', 'group']]] = grouping.loc[:, idx[:, ['sign', 'group']]].astype(int)"
   ]
  },
  {
   "cell_type": "code",
   "execution_count": null,
   "metadata": {},
   "outputs": [],
   "source": [
    "X = grouping[('odor', 'group')].value_counts().sort_index()\n",
    "\n",
    "fig, ax = plt.subplots()\n",
    "ax.pie(X, labels=X.index, autopct='%1.1f%%')\n",
    "circle = plt.Circle((0, 0), 0.7071, color='white')\n",
    "ax.add_artist(circle)\n",
    "plt.axis('equal');\n",
    "\n",
    "if to_plot:\n",
    "    plt_name = os.path.join(output_dir, 'fig2j')\n",
    "    fig.savefig(plt_name + '.pdf')\n",
    "    fig.savefig(plt_name + '.png')"
   ]
  },
  {
   "cell_type": "code",
   "execution_count": null,
   "metadata": {
    "ExecuteTime": {
     "end_time": "2018-01-30T10:34:30.625198Z",
     "start_time": "2018-01-30T10:34:27.694848Z"
    }
   },
   "outputs": [],
   "source": [
    "data = thresh_data.copy()\n",
    "group_key = grouping[('odor', 'group')]\n",
    "data.columns = pd.MultiIndex.from_tuples(\n",
    "    [neuron + tuple([group_key[neuron]]) for neuron in thresh_data],\n",
    "    names=thresh_data.columns.names + ['group']\n",
    ")\n",
    "# data = data.stack(['subject', 'neuron', 'group']).reset_index().rename(columns={0: 'sd'})\n",
    "\n",
    "fig, axes = plt.subplots(ncols=2, sharey=True, figsize=(10, 5))\n",
    "\n",
    "for ax, (grp, df) in zip(axes.T, data.groupby(axis=0, level='epoch')):\n",
    "    Y = data.loc[grp].mean(axis=1, level='group').rolling(5, center=True).mean()\n",
    "    E = data.loc[grp].sem(axis=1, level='group').rolling(5, center=True).mean()\n",
    "    Y.plot(ax=ax);\n",
    "    X = ax.lines[0].get_xdata()\n",
    "\n",
    "    for n in range(Y.shape[1]):\n",
    "        y = Y.as_matrix()[:, n]\n",
    "        e = E.as_matrix()[:, n]\n",
    "        ix = ~(np.isnan(y) + np.isnan(e))\n",
    "        ax.fill_between(X[ix], y[ix] - e[ix], y[ix] + e[ix], alpha=0.25)\n",
    "\n",
    "sns.despine(fig=fig)\n",
    "\n",
    "if to_plot:\n",
    "    plt_name = os.path.join(output_dir, 'fig2h')\n",
    "    fig.savefig(plt_name + '.pdf')\n",
    "    fig.savefig(plt_name + '.png')"
   ]
  },
  {
   "cell_type": "markdown",
   "metadata": {},
   "source": [
    "# Correlation\n",
    "Calculate Spearman correlation coefficient between behavioral features and neural activity during pre, response, and post periods."
   ]
  },
  {
   "cell_type": "code",
   "execution_count": null,
   "metadata": {
    "ExecuteTime": {
     "end_time": "2018-01-24T02:38:59.320137Z",
     "start_time": "2018-01-24T02:38:56.464037Z"
    },
    "collapsed": true,
    "scrolled": true
   },
   "outputs": [],
   "source": [
    "features = ['pupil', 'track']\n",
    "\n",
    "behav_corr_data = behav_response.loc[idx[:, ['0 pre', '2 response', '4 post']], :].unstack('epoch').stack('trial')\n",
    "neural_corr_data = neural_response.loc[idx[:, ['0 pre', '2 response', '4 post']], :].unstack('epoch').stack('trial')\n",
    "\n",
    "behav_corr_data = behav_corr_data.groupby(level='time_epoch').apply(lambda x: x.reset_index(drop=True))\n",
    "neural_corr_data = neural_corr_data.groupby(level='time_epoch').apply(lambda x: x.reset_index(drop=True))\n",
    "\n",
    "corrs = pd.DataFrame(index=pd.MultiIndex.from_product([features, ['r', 'p']]), columns=neural_corr_data.columns, dtype=float)\n",
    "for obs_key in neural_corr_data:\n",
    "    subj, neuron, epoch = obs_key\n",
    "    obs_neural = neural_corr_data[obs_key]\n",
    "    for feature in features:\n",
    "        obs_behav = behav_corr_data[subj, feature, epoch]\n",
    "        na_ix = obs_behav.isna() | obs_neural.isna()\n",
    "        corrs.loc[feature, obs_key] = scipy.stats.spearmanr(obs_behav[~na_ix].dropna(), obs_neural[~na_ix].dropna())\n",
    "\n",
    "group_key = grouping[('odor', 'group')]\n",
    "corrs.columns = pd.MultiIndex.from_tuples([x + (group_key[x[:2]],) for x in corrs.columns], names=corrs.columns.names + ['group'])\n",
    "corrs = corrs.T"
   ]
  },
  {
   "cell_type": "code",
   "execution_count": null,
   "metadata": {},
   "outputs": [],
   "source": [
    "# Stats on correlation distributions\n",
    "\n",
    "neural_corr_stats = pd.DataFrame(\n",
    "    index=pd.MultiIndex.from_product([['h2o', 'odor'], [-1, 0, 1]], names=['epoch', 'group']),\n",
    "    columns=pd.MultiIndex.from_product([features, ['t', 'p']], names=['feature', 'stat']),\n",
    "    dtype=float\n",
    ")\n",
    "\n",
    "for odor in ['h2o', 'odor']:\n",
    "    for feature in features:\n",
    "        for grp in [-1, 0, 1]:\n",
    "            neural_corr_stats.loc[(odor, grp), feature] = list(scipy.stats.ttest_1samp(\n",
    "                np.arctanh(corrs.loc[idx[:, :, odor, grp], (feature, 'r')]),\n",
    "                    0,\n",
    "                    nan_policy='omit'\n",
    "            ))"
   ]
  },
  {
   "cell_type": "code",
   "execution_count": null,
   "metadata": {},
   "outputs": [],
   "source": [
    "data = corrs.T.xs('r', axis=0, level=1)\n",
    "data.index.name = 'feature'\n",
    "data = data.stack('epoch')\n",
    "\n",
    "# group_key = grouping[('odor', 'group')]\n",
    "# data.columns = pd.MultiIndex.from_tuples(\n",
    "#     [neuron + tuple([group_key[neuron]]) for neuron in data],\n",
    "#     names=data.columns.names + ['group']\n",
    "# )\n",
    "data = data.stack(['subject', 'neuron', 'group']).reset_index().rename(columns={0: 'r'})\n",
    "\n",
    "features = ['pupil', 'track']\n",
    "epochs = ['h2o', 'odor']\n",
    "g = sns.FacetGrid(data=data, row='feature', col='epoch', hue='group', row_order=features, col_order=epochs)\n",
    "g.map(cdf, 'r').add_legend()\n",
    "\n",
    "for subaxes, feature in zip(g.axes, features):\n",
    "    for ax, epoch in zip(subaxes, epochs):\n",
    "        ax.set_xlim(-0.75, 0.75)\n",
    "        ax.set_title(\n",
    "            '{}\\n'.format(ax.get_title()) +\n",
    "            'inh | t: {:.2e} p: {:.2e}\\n'.format(neural_corr_stats.loc[(epoch, -1), (feature, 't')], neural_corr_stats.loc[(epoch, -1), (feature, 'p')]) +\n",
    "            'nc | t: {:.2e} p: {:.2e}\\n'.format(neural_corr_stats.loc[(epoch, 0), (feature, 't')], neural_corr_stats.loc[(epoch, 0), (feature, 'p')]) +\n",
    "            'exc | t: {:.2e} p: {:.2e}\\n'.format(neural_corr_stats.loc[(epoch, 1), (feature, 't')], neural_corr_stats.loc[(epoch, 1), (feature, 'p')])\n",
    "        )\n",
    "g.fig.tight_layout(rect=[0, 0, 0.9, 1])\n",
    "\n",
    "if to_plot:\n",
    "    plt_name = os.path.join(output_dir, 'fig2lm')\n",
    "    g.fig.savefig(plt_name + '.pdf')\n",
    "    g.fig.savefig(plt_name + '.png')"
   ]
  },
  {
   "cell_type": "code",
   "execution_count": null,
   "metadata": {},
   "outputs": [],
   "source": []
  }
 ],
 "metadata": {
  "anaconda-cloud": {},
  "kernelspec": {
   "display_name": "Python [conda env:anaconda3]",
   "language": "python",
   "name": "conda-env-anaconda3-py"
  },
  "language_info": {
   "codemirror_mode": {
    "name": "ipython",
    "version": 3
   },
   "file_extension": ".py",
   "mimetype": "text/x-python",
   "name": "python",
   "nbconvert_exporter": "python",
   "pygments_lexer": "ipython3",
   "version": "3.6.8"
  },
  "nbpresent": {
   "slides": {
    "00a0addc-2337-4169-a659-143e32f8baaf": {
     "id": "00a0addc-2337-4169-a659-143e32f8baaf",
     "prev": null,
     "regions": {
      "04a409d2-a98b-4156-a504-37aaeefd7851": {
       "attrs": {
        "height": 0.8,
        "width": 0.8,
        "x": 0.1,
        "y": 0.1
       },
       "content": {
        "cell": "f4c2665c-6204-4c64-83c3-5ea430a8f333",
        "part": "whole"
       },
       "id": "04a409d2-a98b-4156-a504-37aaeefd7851"
      }
     }
    },
    "04beb617-7124-44b8-a41d-f2d075b84120": {
     "id": "04beb617-7124-44b8-a41d-f2d075b84120",
     "prev": "f9a058db-4c88-40c3-a2e0-d89a8f56a295",
     "regions": {
      "f9b60a04-0961-4b6d-b31e-63eb9a3726d7": {
       "attrs": {
        "height": 0.8,
        "width": 0.8,
        "x": 0.1,
        "y": 0.1
       },
       "content": {
        "cell": "78be2377-7b68-4912-88d8-3d447fdd5da0",
        "part": "whole"
       },
       "id": "f9b60a04-0961-4b6d-b31e-63eb9a3726d7"
      }
     }
    },
    "08f5c450-d84b-493e-a2cf-173a815f986b": {
     "id": "08f5c450-d84b-493e-a2cf-173a815f986b",
     "prev": "a7395395-0212-4782-9bae-baf0ee8ce90c",
     "regions": {
      "a94facd0-1943-4e52-bf69-f2e91fb7e116": {
       "attrs": {
        "height": 0.8,
        "width": 0.8,
        "x": 0.1,
        "y": 0.1
       },
       "content": {
        "cell": "9c16c7e9-7278-4fa9-8015-6fc5c9455377",
        "part": "whole"
       },
       "id": "a94facd0-1943-4e52-bf69-f2e91fb7e116"
      }
     }
    },
    "0fb322a8-6116-457d-a7fe-f9d17e56d898": {
     "id": "0fb322a8-6116-457d-a7fe-f9d17e56d898",
     "prev": "b8279860-2ea1-43ec-843c-17f66722cbb9",
     "regions": {
      "fba2126b-3763-478f-ad27-1cef75247257": {
       "attrs": {
        "height": 0.8,
        "width": 0.8,
        "x": 0.1,
        "y": 0.1
       },
       "content": {
        "cell": "6c234f58-e7ee-4ac9-9a5d-86b7159b4958",
        "part": "whole"
       },
       "id": "fba2126b-3763-478f-ad27-1cef75247257"
      }
     }
    },
    "25084269-a765-46ab-a1cd-f3ac2f4f1d42": {
     "id": "25084269-a765-46ab-a1cd-f3ac2f4f1d42",
     "prev": "595463e9-07df-4c4e-91bf-0e60662ec502",
     "regions": {
      "09d86b5b-8137-4b58-a679-8f91e1ee7a11": {
       "attrs": {
        "height": 0.8,
        "width": 0.8,
        "x": 0.1,
        "y": 0.1
       },
       "content": {
        "cell": "e4ea70a6-5172-4771-bab9-7cdf91778aab",
        "part": "whole"
       },
       "id": "09d86b5b-8137-4b58-a679-8f91e1ee7a11"
      }
     }
    },
    "2bddc9f9-fda7-4505-bf54-191122bec717": {
     "id": "2bddc9f9-fda7-4505-bf54-191122bec717",
     "prev": "d4df9c7d-286f-45c6-9ef8-c719d1f65bb3",
     "regions": {
      "1f0050d6-0c7b-4c03-be1c-6cbb86e3234e": {
       "attrs": {
        "height": 0.8,
        "width": 0.8,
        "x": 0.1,
        "y": 0.1
       },
       "content": {
        "cell": "28b4ee29-bf50-41d4-b297-2cfb98735a21",
        "part": "whole"
       },
       "id": "1f0050d6-0c7b-4c03-be1c-6cbb86e3234e"
      }
     }
    },
    "37360440-31fa-43ec-82d7-7e7691253476": {
     "id": "37360440-31fa-43ec-82d7-7e7691253476",
     "prev": "df72a77e-dada-439d-ac5c-fbb5f2e5be19",
     "regions": {
      "2d65deb3-4840-4b8d-926d-0636fb2061e4": {
       "attrs": {
        "height": 0.8,
        "width": 0.8,
        "x": 0.1,
        "y": 0.1
       },
       "content": {
        "cell": "2f564556-866a-4fd3-878c-18df9cea6961",
        "part": "whole"
       },
       "id": "2d65deb3-4840-4b8d-926d-0636fb2061e4"
      }
     }
    },
    "3a955279-ffa7-499e-9a49-c931404e160a": {
     "id": "3a955279-ffa7-499e-9a49-c931404e160a",
     "prev": "a99c2261-4bfc-4544-9389-7f02d85e555a",
     "regions": {
      "756efd33-9dd8-40f0-bbc5-2ed252137e1f": {
       "attrs": {
        "height": 0.8,
        "width": 0.8,
        "x": 0.1,
        "y": 0.1
       },
       "content": {
        "cell": "131784be-8442-4b05-971d-5a3cd161c5dc",
        "part": "whole"
       },
       "id": "756efd33-9dd8-40f0-bbc5-2ed252137e1f"
      }
     }
    },
    "595463e9-07df-4c4e-91bf-0e60662ec502": {
     "id": "595463e9-07df-4c4e-91bf-0e60662ec502",
     "prev": "e309aa73-93b2-44ba-9ac9-3fdb2e050e9a",
     "regions": {
      "14f6a946-1be5-4013-b0a9-6d76ec7de7ce": {
       "attrs": {
        "height": 0.8,
        "width": 0.8,
        "x": 0.1,
        "y": 0.1
       },
       "content": {
        "cell": "9e9c54c5-110b-4cfc-9764-9c2b0aa5fa5c",
        "part": "whole"
       },
       "id": "14f6a946-1be5-4013-b0a9-6d76ec7de7ce"
      }
     }
    },
    "6e292ca4-fe6c-4148-97ae-5c56d1a133a4": {
     "id": "6e292ca4-fe6c-4148-97ae-5c56d1a133a4",
     "prev": "d55fabd7-b803-4dae-a316-31da7f3f2fe6",
     "regions": {
      "a5656379-f85b-4b57-bc41-b12cf71308b1": {
       "attrs": {
        "height": 0.8,
        "width": 0.8,
        "x": 0.1,
        "y": 0.1
       },
       "content": {
        "cell": "3d5233ba-1792-451f-8062-592cb283fe26",
        "part": "whole"
       },
       "id": "a5656379-f85b-4b57-bc41-b12cf71308b1"
      }
     }
    },
    "6f46fb34-3390-4563-8db3-9b476d0ddada": {
     "id": "6f46fb34-3390-4563-8db3-9b476d0ddada",
     "prev": "7c1ea371-8d39-466e-9efd-073f5c45135e",
     "regions": {
      "488bcd5e-41e9-488d-844a-103ad1713669": {
       "attrs": {
        "height": 0.8,
        "width": 0.8,
        "x": 0.1,
        "y": 0.1
       },
       "content": {
        "cell": "51cd4f89-58f6-4bc7-ae3a-50f0c34af20d",
        "part": "whole"
       },
       "id": "488bcd5e-41e9-488d-844a-103ad1713669"
      }
     }
    },
    "738d120c-19dd-4c22-ba59-a3152dd1f855": {
     "id": "738d120c-19dd-4c22-ba59-a3152dd1f855",
     "prev": "e1ee7c6d-bdfe-431f-b752-f3f3ed0e85b5",
     "regions": {
      "d785122f-4db3-4f27-8f0b-f923ad8bfeea": {
       "attrs": {
        "height": 0.8,
        "width": 0.8,
        "x": 0.1,
        "y": 0.1
       },
       "content": {
        "cell": "1514f0b3-ad27-4eb3-abbd-7f0626ae9186",
        "part": "whole"
       },
       "id": "d785122f-4db3-4f27-8f0b-f923ad8bfeea"
      }
     }
    },
    "7c1ea371-8d39-466e-9efd-073f5c45135e": {
     "id": "7c1ea371-8d39-466e-9efd-073f5c45135e",
     "prev": "04beb617-7124-44b8-a41d-f2d075b84120",
     "regions": {
      "68cc9501-82bc-4950-9e02-e0652a2fa2b9": {
       "attrs": {
        "height": 0.8,
        "width": 0.8,
        "x": 0.1,
        "y": 0.1
       },
       "content": {
        "cell": "f99f6834-b479-48f4-bffa-701e716e4bee",
        "part": "whole"
       },
       "id": "68cc9501-82bc-4950-9e02-e0652a2fa2b9"
      }
     }
    },
    "7e65289f-424d-4a85-9c1c-d6404c8bd806": {
     "id": "7e65289f-424d-4a85-9c1c-d6404c8bd806",
     "prev": "738d120c-19dd-4c22-ba59-a3152dd1f855",
     "regions": {
      "e6182284-b03d-4d4a-9e9b-c4ddd484ec61": {
       "attrs": {
        "height": 0.8,
        "width": 0.8,
        "x": 0.1,
        "y": 0.1
       },
       "content": {
        "cell": "3a08e1e9-27ec-4ab6-a4a8-7cecc51000c9",
        "part": "whole"
       },
       "id": "e6182284-b03d-4d4a-9e9b-c4ddd484ec61"
      }
     }
    },
    "839fcac9-12df-473b-b9c9-f6055d354d48": {
     "id": "839fcac9-12df-473b-b9c9-f6055d354d48",
     "prev": "25084269-a765-46ab-a1cd-f3ac2f4f1d42",
     "regions": {
      "d9501bed-e4c1-4c40-9ee2-4bed90809175": {
       "attrs": {
        "height": 0.8,
        "width": 0.8,
        "x": 0.1,
        "y": 0.1
       },
       "content": {
        "cell": "a1c5400f-a3ef-453a-9752-66710f78b913",
        "part": "whole"
       },
       "id": "d9501bed-e4c1-4c40-9ee2-4bed90809175"
      }
     }
    },
    "863e9c10-6f92-42d5-88ac-86d922bbbb2e": {
     "id": "863e9c10-6f92-42d5-88ac-86d922bbbb2e",
     "prev": "839fcac9-12df-473b-b9c9-f6055d354d48",
     "regions": {
      "cbceb844-45f6-4bf4-92f3-1f57325f3084": {
       "attrs": {
        "height": 0.8,
        "width": 0.8,
        "x": 0.1,
        "y": 0.1
       },
       "content": {
        "cell": "f20b4770-03ee-4341-9d99-21645231ac94",
        "part": "whole"
       },
       "id": "cbceb844-45f6-4bf4-92f3-1f57325f3084"
      }
     }
    },
    "8b39a41d-1374-416a-aa71-6225563feee4": {
     "id": "8b39a41d-1374-416a-aa71-6225563feee4",
     "prev": "2bddc9f9-fda7-4505-bf54-191122bec717",
     "regions": {
      "c154f753-1117-4068-8b12-5a4729eaa6ab": {
       "attrs": {
        "height": 0.8,
        "width": 0.8,
        "x": 0.1,
        "y": 0.1
       },
       "content": {
        "cell": "f44f6780-7452-468e-bc86-61e3e50029bb",
        "part": "whole"
       },
       "id": "c154f753-1117-4068-8b12-5a4729eaa6ab"
      }
     }
    },
    "9842c68a-b283-4bd9-9f7d-63fa51c1f2a8": {
     "id": "9842c68a-b283-4bd9-9f7d-63fa51c1f2a8",
     "prev": "7e65289f-424d-4a85-9c1c-d6404c8bd806",
     "regions": {
      "d5505ddf-8124-4827-87ca-fe9012c187df": {
       "attrs": {
        "height": 0.8,
        "width": 0.8,
        "x": 0.1,
        "y": 0.1
       },
       "content": {
        "cell": "11692b46-3db5-4d3f-84c8-c0e171879cf3",
        "part": "whole"
       },
       "id": "d5505ddf-8124-4827-87ca-fe9012c187df"
      }
     }
    },
    "a7395395-0212-4782-9bae-baf0ee8ce90c": {
     "id": "a7395395-0212-4782-9bae-baf0ee8ce90c",
     "prev": "ec8a7adc-77f9-4171-9725-7016f8cf8392",
     "regions": {
      "94af24ab-f11b-4a3a-be4f-0c952e1f68e4": {
       "attrs": {
        "height": 0.8,
        "width": 0.8,
        "x": 0.1,
        "y": 0.1
       },
       "content": {
        "cell": "219088af-fb34-4fc6-beef-7a6387de7331",
        "part": "whole"
       },
       "id": "94af24ab-f11b-4a3a-be4f-0c952e1f68e4"
      }
     }
    },
    "a99c2261-4bfc-4544-9389-7f02d85e555a": {
     "id": "a99c2261-4bfc-4544-9389-7f02d85e555a",
     "prev": "6f46fb34-3390-4563-8db3-9b476d0ddada",
     "regions": {
      "29f37d63-47e1-4b83-a4bf-d84595ab3f82": {
       "attrs": {
        "height": 0.8,
        "width": 0.8,
        "x": 0.1,
        "y": 0.1
       },
       "content": {
        "cell": "a3574787-d5ba-4d57-9454-3370f16e3ad9",
        "part": "whole"
       },
       "id": "29f37d63-47e1-4b83-a4bf-d84595ab3f82"
      }
     }
    },
    "b8279860-2ea1-43ec-843c-17f66722cbb9": {
     "id": "b8279860-2ea1-43ec-843c-17f66722cbb9",
     "prev": "e7514c12-ad0d-4f57-9e2b-3362c11e57d8",
     "regions": {
      "a70f5474-b937-477e-b9fb-0b160797220a": {
       "attrs": {
        "height": 0.8,
        "width": 0.8,
        "x": 0.1,
        "y": 0.1
       },
       "content": {
        "cell": "77b92b59-0899-4709-83c3-45f2e42da463",
        "part": "whole"
       },
       "id": "a70f5474-b937-477e-b9fb-0b160797220a"
      }
     }
    },
    "c2308f3f-a064-4e2e-8245-726f0552d9bb": {
     "id": "c2308f3f-a064-4e2e-8245-726f0552d9bb",
     "prev": "863e9c10-6f92-42d5-88ac-86d922bbbb2e",
     "regions": {
      "5b6c427e-1167-49c9-9621-e929d0e1c2cb": {
       "attrs": {
        "height": 0.8,
        "width": 0.8,
        "x": 0.1,
        "y": 0.1
       },
       "content": {
        "cell": "8c280b9e-ba7e-4e82-83f2-1fb6c2975ced",
        "part": "whole"
       },
       "id": "5b6c427e-1167-49c9-9621-e929d0e1c2cb"
      }
     }
    },
    "d4df9c7d-286f-45c6-9ef8-c719d1f65bb3": {
     "id": "d4df9c7d-286f-45c6-9ef8-c719d1f65bb3",
     "prev": "00a0addc-2337-4169-a659-143e32f8baaf",
     "regions": {
      "a36837c6-0f7c-4bfa-baa9-146e143a8faa": {
       "attrs": {
        "height": 0.8,
        "width": 0.8,
        "x": 0.1,
        "y": 0.1
       },
       "content": {
        "cell": "f9f2a0ee-0c2d-41ef-9ae2-f3b4891a8b0d",
        "part": "whole"
       },
       "id": "a36837c6-0f7c-4bfa-baa9-146e143a8faa"
      }
     }
    },
    "d55fabd7-b803-4dae-a316-31da7f3f2fe6": {
     "id": "d55fabd7-b803-4dae-a316-31da7f3f2fe6",
     "prev": "9842c68a-b283-4bd9-9f7d-63fa51c1f2a8",
     "regions": {
      "600407d0-1422-42b2-9a94-62e84e3a647f": {
       "attrs": {
        "height": 0.8,
        "width": 0.8,
        "x": 0.1,
        "y": 0.1
       },
       "content": {
        "cell": "3156d4e4-24fa-4f02-83f3-bcf9301befc8",
        "part": "whole"
       },
       "id": "600407d0-1422-42b2-9a94-62e84e3a647f"
      }
     }
    },
    "df72a77e-dada-439d-ac5c-fbb5f2e5be19": {
     "id": "df72a77e-dada-439d-ac5c-fbb5f2e5be19",
     "prev": "f0390dc5-9ce2-447c-a613-0c10696c9a4a",
     "regions": {
      "63f16205-c8ff-411c-ac1b-6aed16e22843": {
       "attrs": {
        "height": 0.8,
        "width": 0.8,
        "x": 0.1,
        "y": 0.1
       },
       "content": {
        "cell": "f52395e1-3f19-4bb2-8310-e62b62ff3e68",
        "part": "whole"
       },
       "id": "63f16205-c8ff-411c-ac1b-6aed16e22843"
      }
     }
    },
    "e1ee7c6d-bdfe-431f-b752-f3f3ed0e85b5": {
     "id": "e1ee7c6d-bdfe-431f-b752-f3f3ed0e85b5",
     "prev": "fa1eecf6-3f82-424a-9091-768d6e3542ea",
     "regions": {
      "ced1261b-e1eb-48fa-b062-7880e9c3b4f6": {
       "attrs": {
        "height": 0.8,
        "width": 0.8,
        "x": 0.1,
        "y": 0.1
       },
       "content": {
        "cell": "5d3cf603-5598-46f9-97cc-385a442c7c8e",
        "part": "whole"
       },
       "id": "ced1261b-e1eb-48fa-b062-7880e9c3b4f6"
      }
     }
    },
    "e309aa73-93b2-44ba-9ac9-3fdb2e050e9a": {
     "id": "e309aa73-93b2-44ba-9ac9-3fdb2e050e9a",
     "prev": "08f5c450-d84b-493e-a2cf-173a815f986b",
     "regions": {
      "ce066a50-28fd-497f-a44c-ca2fdfbaed21": {
       "attrs": {
        "height": 0.8,
        "width": 0.8,
        "x": 0.1,
        "y": 0.1
       },
       "content": {
        "cell": "a18d6e2f-4326-4598-882d-ceba02ad3491",
        "part": "whole"
       },
       "id": "ce066a50-28fd-497f-a44c-ca2fdfbaed21"
      }
     }
    },
    "e7514c12-ad0d-4f57-9e2b-3362c11e57d8": {
     "id": "e7514c12-ad0d-4f57-9e2b-3362c11e57d8",
     "prev": "8b39a41d-1374-416a-aa71-6225563feee4",
     "regions": {
      "967caf2b-88b4-4ece-ad87-3f3aa2b1ceaf": {
       "attrs": {
        "height": 0.8,
        "width": 0.8,
        "x": 0.1,
        "y": 0.1
       },
       "content": {
        "cell": "5780df0a-e735-431e-869a-1916a220651f",
        "part": "whole"
       },
       "id": "967caf2b-88b4-4ece-ad87-3f3aa2b1ceaf"
      }
     }
    },
    "ec8a7adc-77f9-4171-9725-7016f8cf8392": {
     "id": "ec8a7adc-77f9-4171-9725-7016f8cf8392",
     "prev": "edf809ac-a5f0-4236-b5f6-9a676e97fc8b",
     "regions": {
      "d9319bab-3a4a-4fda-bc7b-c9d9cbca78be": {
       "attrs": {
        "height": 0.8,
        "width": 0.8,
        "x": 0.1,
        "y": 0.1
       },
       "content": {
        "cell": "78ec0c05-8aff-49ae-abdc-995410801dfd",
        "part": "whole"
       },
       "id": "d9319bab-3a4a-4fda-bc7b-c9d9cbca78be"
      }
     }
    },
    "edf809ac-a5f0-4236-b5f6-9a676e97fc8b": {
     "id": "edf809ac-a5f0-4236-b5f6-9a676e97fc8b",
     "prev": "0fb322a8-6116-457d-a7fe-f9d17e56d898",
     "regions": {
      "71806744-aa06-4b3f-b7f8-0bc64d728ee7": {
       "attrs": {
        "height": 0.8,
        "width": 0.8,
        "x": 0.1,
        "y": 0.1
       },
       "content": {
        "cell": "5697c78e-d885-4960-bbe4-7b418c71d3ce",
        "part": "whole"
       },
       "id": "71806744-aa06-4b3f-b7f8-0bc64d728ee7"
      }
     }
    },
    "f0390dc5-9ce2-447c-a613-0c10696c9a4a": {
     "id": "f0390dc5-9ce2-447c-a613-0c10696c9a4a",
     "prev": "f9c50fe9-38fa-41f9-b559-becc89384eb3",
     "regions": {
      "e1521f38-b435-474d-9d21-d60a8e5d9254": {
       "attrs": {
        "height": 0.8,
        "width": 0.8,
        "x": 0.1,
        "y": 0.1
       },
       "content": {
        "cell": "fbedd6df-0d4a-437a-8f3b-4a67843c3c8f",
        "part": "whole"
       },
       "id": "e1521f38-b435-474d-9d21-d60a8e5d9254"
      }
     }
    },
    "f9a058db-4c88-40c3-a2e0-d89a8f56a295": {
     "id": "f9a058db-4c88-40c3-a2e0-d89a8f56a295",
     "prev": "6e292ca4-fe6c-4148-97ae-5c56d1a133a4",
     "regions": {
      "8f2dafbf-6fd2-4303-b6bb-2e8a36dc3b45": {
       "attrs": {
        "height": 0.8,
        "width": 0.8,
        "x": 0.1,
        "y": 0.1
       },
       "content": {
        "cell": "75c73539-b9ef-4182-a47e-74ace2082405",
        "part": "whole"
       },
       "id": "8f2dafbf-6fd2-4303-b6bb-2e8a36dc3b45"
      }
     }
    },
    "f9c50fe9-38fa-41f9-b559-becc89384eb3": {
     "id": "f9c50fe9-38fa-41f9-b559-becc89384eb3",
     "prev": "c2308f3f-a064-4e2e-8245-726f0552d9bb",
     "regions": {
      "aa4addb6-abab-4875-812f-4e0856ba6186": {
       "attrs": {
        "height": 0.8,
        "width": 0.8,
        "x": 0.1,
        "y": 0.1
       },
       "content": {
        "cell": "ab5690a1-31dc-4776-baff-4ed9f873a2a0",
        "part": "whole"
       },
       "id": "aa4addb6-abab-4875-812f-4e0856ba6186"
      }
     }
    },
    "fa1eecf6-3f82-424a-9091-768d6e3542ea": {
     "id": "fa1eecf6-3f82-424a-9091-768d6e3542ea",
     "prev": "37360440-31fa-43ec-82d7-7e7691253476",
     "regions": {
      "91eae370-0dc4-45c4-9156-037f8cac2d08": {
       "attrs": {
        "height": 0.8,
        "width": 0.8,
        "x": 0.1,
        "y": 0.1
       },
       "content": {
        "cell": "bdac6ef4-84d3-410e-9148-248a0516ab18",
        "part": "whole"
       },
       "id": "91eae370-0dc4-45c4-9156-037f8cac2d08"
      }
     }
    }
   },
   "themes": {}
  },
  "toc": {
   "colors": {
    "hover_highlight": "#DAA520",
    "navigate_num": "#000000",
    "navigate_text": "#333333",
    "running_highlight": "#FF0000",
    "selected_highlight": "#FFD700",
    "sidebar_border": "#EEEEEE",
    "wrapper_background": "#FFFFFF"
   },
   "moveMenuLeft": true,
   "nav_menu": {
    "height": "174px",
    "width": "252px"
   },
   "navigate_menu": true,
   "number_sections": true,
   "sideBar": true,
   "threshold": 4,
   "toc_cell": true,
   "toc_position": {
    "height": "691px",
    "left": "0px",
    "right": "1317px",
    "top": "106px",
    "width": "212px"
   },
   "toc_section_display": "block",
   "toc_window_display": false,
   "widenNotebook": false
  }
 },
 "nbformat": 4,
 "nbformat_minor": 2
}
